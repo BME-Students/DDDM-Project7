{
 "cells": [
  {
   "cell_type": "code",
   "execution_count": 1,
   "id": "31e01e1e-2cf7-41ef-ae29-69a58e19c794",
   "metadata": {},
   "outputs": [],
   "source": [
    "import numpy as np\n",
    "import pandas as pd\n",
    "import os\n",
    "from sklearn.preprocessing import MinMaxScaler\n",
    "from sklearn.model_selection import train_test_split\n",
    "from tensorflow.keras.models import Sequential\n",
    "from tensorflow.keras.layers import LSTM, Dense, BatchNormalization\n",
    "from tensorflow.keras.optimizers import Adam\n",
    "from tensorflow.keras.callbacks import EarlyStopping\n",
    "from helperFunctions import createDataSet\n"
   ]
  },
  {
   "cell_type": "code",
   "execution_count": 4,
   "id": "f93d1a9f-9ae2-4c72-9bde-496b95169514",
   "metadata": {},
   "outputs": [],
   "source": [
    "# Load and preprocess the data using helperFunctions.py\n",
    "file = \"../../data/Ohio2020_processed/train/540-ws-training_processed.csv\"\n",
    "data_list = createDataSet(file)\n",
    "\n",
    "# Combine data into a single DataFrame\n",
    "data = pd.concat(data_list, ignore_index=True)\n",
    "# Split the data into features (X) and target (y)\n",
    "X = data.drop(['cbg'], axis=1)\n",
    "y = data['cbg']\n",
    "\n",
    "# Scale the data using MinMaxScaler\n",
    "scaler = MinMaxScaler(feature_range=(-1, 1))\n",
    "X_scaled = scaler.fit_transform(X)\n",
    "y_scaled = scaler.fit_transform(y.values.reshape(-1, 1))\n",
    "\n",
    "# Train-test split\n",
    "X_train, X_val, y_train, y_val = train_test_split(X_scaled, y_scaled, test_size=0.2, random_state=42)\n",
    "\n",
    "# Reshape X for LSTM input (samples, time steps, features)\n",
    "X_train = X_train.reshape((X_train.shape[0], 1, X_train.shape[1]))\n",
    "X_val = X_val.reshape((X_val.shape[0], 1, X_val.shape[1]))\n"
   ]
  },
  {
   "cell_type": "code",
   "execution_count": 5,
   "id": "9586ad00-c98d-44c7-a3a5-70449a4b1cba",
   "metadata": {},
   "outputs": [],
   "source": [
    "def create_model(input_shape):\n",
    "    model = Sequential([\n",
    "        LSTM(64, activation='tanh', input_shape=input_shape, return_sequences=True),\n",
    "        BatchNormalization(),\n",
    "        LSTM(32, activation='tanh'),\n",
    "        BatchNormalization(),\n",
    "        Dense(16, activation='relu'),\n",
    "        Dense(1, activation='linear')\n",
    "    ])\n",
    "    model.compile(optimizer=Adam(learning_rate=0.001, clipnorm=1.0), loss='mse')\n",
    "    return model\n",
    "\n",
    "def train_model(X_train, y_train, X_val, y_val, epochs=20, batch_size=32):\n",
    "    model = create_model((X_train.shape[1], X_train.shape[2]))\n",
    "    early_stopping = EarlyStopping(monitor='val_loss', patience=5, restore_best_weights=True)\n",
    "    history = model.fit(X_train, y_train, epochs=epochs, batch_size=batch_size,\n",
    "                        validation_data=(X_val, y_val), verbose=1, callbacks=[early_stopping])\n",
    "    return model, history\n"
   ]
  },
  {
   "cell_type": "code",
   "execution_count": 6,
   "id": "15e54928-52bc-4a8c-a0da-19ccb761a67e",
   "metadata": {},
   "outputs": [
    {
     "name": "stdout",
     "output_type": "stream",
     "text": [
      "Epoch 1/20\n",
      "28/28 [==============================] - 9s 55ms/step - loss: 0.1188 - val_loss: 0.2626\n",
      "Epoch 2/20\n",
      "28/28 [==============================] - 0s 7ms/step - loss: 0.0390 - val_loss: 0.2555\n",
      "Epoch 3/20\n",
      "28/28 [==============================] - 0s 7ms/step - loss: 0.0313 - val_loss: 0.2524\n",
      "Epoch 4/20\n",
      "28/28 [==============================] - 0s 8ms/step - loss: 0.0248 - val_loss: 0.2467\n",
      "Epoch 5/20\n",
      "28/28 [==============================] - 0s 7ms/step - loss: 0.0228 - val_loss: 0.2413\n",
      "Epoch 6/20\n",
      "28/28 [==============================] - 0s 8ms/step - loss: 0.0176 - val_loss: 0.2346\n",
      "Epoch 7/20\n",
      "28/28 [==============================] - 0s 8ms/step - loss: 0.0202 - val_loss: 0.2294\n",
      "Epoch 8/20\n",
      "28/28 [==============================] - 0s 8ms/step - loss: 0.0199 - val_loss: 0.2243\n",
      "Epoch 9/20\n",
      "28/28 [==============================] - 0s 8ms/step - loss: 0.0170 - val_loss: 0.2130\n",
      "Epoch 10/20\n",
      "28/28 [==============================] - 0s 8ms/step - loss: 0.0151 - val_loss: 0.1966\n",
      "Epoch 11/20\n",
      "28/28 [==============================] - 0s 8ms/step - loss: 0.0160 - val_loss: 0.1924\n",
      "Epoch 12/20\n",
      "28/28 [==============================] - 0s 8ms/step - loss: 0.0152 - val_loss: 0.1811\n",
      "Epoch 13/20\n",
      "28/28 [==============================] - 0s 7ms/step - loss: 0.0121 - val_loss: 0.1601\n",
      "Epoch 14/20\n",
      "28/28 [==============================] - 0s 8ms/step - loss: 0.0123 - val_loss: 0.1492\n",
      "Epoch 15/20\n",
      "28/28 [==============================] - 0s 8ms/step - loss: 0.0157 - val_loss: 0.1461\n",
      "Epoch 16/20\n",
      "28/28 [==============================] - 0s 8ms/step - loss: 0.0156 - val_loss: 0.1193\n",
      "Epoch 17/20\n",
      "28/28 [==============================] - 0s 9ms/step - loss: 0.0143 - val_loss: 0.1129\n",
      "Epoch 18/20\n",
      "28/28 [==============================] - 0s 8ms/step - loss: 0.0122 - val_loss: 0.0985\n",
      "Epoch 19/20\n",
      "28/28 [==============================] - 0s 8ms/step - loss: 0.0122 - val_loss: 0.0872\n",
      "Epoch 20/20\n",
      "28/28 [==============================] - 0s 8ms/step - loss: 0.0115 - val_loss: 0.0674\n"
     ]
    }
   ],
   "source": [
    "# Train the model\n",
    "model, history = train_model(X_train, y_train, X_val, y_val)"
   ]
  },
  {
   "cell_type": "code",
   "execution_count": 8,
   "id": "d4676076-18bd-47c3-935f-fea06ba15331",
   "metadata": {},
   "outputs": [
    {
     "name": "stdout",
     "output_type": "stream",
     "text": [
      "7/7 [==============================] - 0s 3ms/step - loss: 0.0674\n",
      "Validation Loss: 0.06736073642969131\n"
     ]
    }
   ],
   "source": [
    "# Evaluate the model on the validation set\n",
    "val_loss = model.evaluate(X_val, y_val)\n",
    "print(f\"Validation Loss: {val_loss}\")"
   ]
  },
  {
   "cell_type": "code",
   "execution_count": null,
   "id": "8688b33a-b34f-40da-b16b-27eba01d0977",
   "metadata": {},
   "outputs": [],
   "source": []
  }
 ],
 "metadata": {
  "kernelspec": {
   "display_name": "Python 3 (ipykernel)",
   "language": "python",
   "name": "python3"
  },
  "language_info": {
   "codemirror_mode": {
    "name": "ipython",
    "version": 3
   },
   "file_extension": ".py",
   "mimetype": "text/x-python",
   "name": "python",
   "nbconvert_exporter": "python",
   "pygments_lexer": "ipython3",
   "version": "3.9.18"
  }
 },
 "nbformat": 4,
 "nbformat_minor": 5
}
